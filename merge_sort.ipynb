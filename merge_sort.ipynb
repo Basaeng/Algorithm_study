{
 "cells": [
  {
   "cell_type": "markdown",
   "id": "57d5e3d4",
   "metadata": {},
   "source": [
    "## Merge_sort"
   ]
  },
  {
   "cell_type": "code",
   "execution_count": 1,
   "id": "66b25f34",
   "metadata": {},
   "outputs": [],
   "source": [
    "import math"
   ]
  },
  {
   "cell_type": "code",
   "execution_count": 18,
   "id": "d9d7cb25",
   "metadata": {},
   "outputs": [
    {
     "name": "stdout",
     "output_type": "stream",
     "text": [
      "[4, 7, 8, 2, 3, 9]\n"
     ]
    }
   ],
   "source": [
    "arr = [4,7,8,2,3,9]\n",
    "print(arr)"
   ]
  },
  {
   "cell_type": "code",
   "execution_count": null,
   "id": "c287af1c",
   "metadata": {},
   "outputs": [],
   "source": []
  },
  {
   "cell_type": "code",
   "execution_count": 29,
   "id": "63c9983d",
   "metadata": {},
   "outputs": [],
   "source": [
    "def merge_sort(A,p,r):\n",
    "    if p<r :\n",
    "        q = math.ceil(p+r)/2\n",
    "        merge_sort(A,p,q)\n",
    "        merge_sort(A,q+1,r)\n",
    "        merge(A,p,q,r)\n",
    "    "
   ]
  },
  {
   "cell_type": "code",
   "execution_count": 20,
   "id": "e78c43f1",
   "metadata": {},
   "outputs": [
    {
     "data": {
      "text/plain": [
       "6"
      ]
     },
     "execution_count": 20,
     "metadata": {},
     "output_type": "execute_result"
    }
   ],
   "source": [
    "len(arr)"
   ]
  },
  {
   "cell_type": "code",
   "execution_count": 21,
   "id": "d1875ffa",
   "metadata": {},
   "outputs": [
    {
     "data": {
      "text/plain": [
       "2"
      ]
     },
     "execution_count": 21,
     "metadata": {},
     "output_type": "execute_result"
    }
   ],
   "source": [
    "q = int(len(arr)/2) -1\n",
    "q"
   ]
  },
  {
   "cell_type": "code",
   "execution_count": 22,
   "id": "478357e6",
   "metadata": {},
   "outputs": [
    {
     "name": "stdout",
     "output_type": "stream",
     "text": [
      "[4, 7, 8, 3]\n",
      "[2, 3, 9, 3]\n"
     ]
    }
   ],
   "source": [
    "L = list(range(q+1 +1))\n",
    "for i in range(q+1):\n",
    "    L[i] = arr[i]\n",
    "print(L)\n",
    "\n",
    "R = list(range(q+1 +1))\n",
    "for i in range(q+1):\n",
    "    count = i+ (q+1) \n",
    "    R[i] = arr[count]\n",
    "print(R)"
   ]
  },
  {
   "cell_type": "code",
   "execution_count": 23,
   "id": "ac2a6674",
   "metadata": {},
   "outputs": [
    {
     "name": "stdout",
     "output_type": "stream",
     "text": [
      "[4, 7, 8, inf]\n",
      "[2, 3, 9, inf]\n"
     ]
    }
   ],
   "source": [
    "L[len(L)-1] = math.inf\n",
    "R[len(R)-1] = math.inf\n",
    "print(L)\n",
    "print(R)"
   ]
  },
  {
   "cell_type": "code",
   "execution_count": 24,
   "id": "3b52a569",
   "metadata": {},
   "outputs": [],
   "source": [
    "i = 0\n",
    "j = 0\n",
    "for k in range(len(arr)):\n",
    "    if L[i] < R[j]:\n",
    "        arr[k] = L[i]\n",
    "        i=i+1\n",
    "    elif L[i] > R[j]:\n",
    "        arr[k] = R[j]\n",
    "        j=j+1"
   ]
  },
  {
   "cell_type": "code",
   "execution_count": 25,
   "id": "593ba7ce",
   "metadata": {},
   "outputs": [
    {
     "data": {
      "text/plain": [
       "[2, 3, 4, 7, 8, 9]"
      ]
     },
     "execution_count": 25,
     "metadata": {},
     "output_type": "execute_result"
    }
   ],
   "source": [
    "arr"
   ]
  },
  {
   "cell_type": "code",
   "execution_count": 27,
   "id": "16956a3d",
   "metadata": {},
   "outputs": [
    {
     "data": {
      "text/plain": [
       "2"
      ]
     },
     "execution_count": 27,
     "metadata": {},
     "output_type": "execute_result"
    }
   ],
   "source": [
    "math.ceil(1.4)"
   ]
  },
  {
   "cell_type": "code",
   "execution_count": null,
   "id": "c536fcd4",
   "metadata": {},
   "outputs": [],
   "source": [
    "merge(A,p,q,r):\n",
    "    n1 = q-p+1\n",
    "    n2 = r-q\n",
    "    L = list(range(n1+1))\n",
    "    for i in range(n1):\n",
    "        L[i] = arr[p+i]\n",
    "    R = list(range(n2+1))\n",
    "    for j in range(n2):\n",
    "        R[j] = arr[q+j]"
   ]
  }
 ],
 "metadata": {
  "kernelspec": {
   "display_name": "Python 3 (ipykernel)",
   "language": "python",
   "name": "python3"
  },
  "language_info": {
   "codemirror_mode": {
    "name": "ipython",
    "version": 3
   },
   "file_extension": ".py",
   "mimetype": "text/x-python",
   "name": "python",
   "nbconvert_exporter": "python",
   "pygments_lexer": "ipython3",
   "version": "3.9.12"
  }
 },
 "nbformat": 4,
 "nbformat_minor": 5
}
