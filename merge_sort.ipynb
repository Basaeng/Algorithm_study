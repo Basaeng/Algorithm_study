{
 "cells": [
  {
   "cell_type": "markdown",
   "id": "57d5e3d4",
   "metadata": {},
   "source": [
    "## Merge_sort"
   ]
  },
  {
   "cell_type": "code",
   "execution_count": 99,
   "id": "d9d7cb25",
   "metadata": {},
   "outputs": [
    {
     "name": "stdout",
     "output_type": "stream",
     "text": [
      "[14, 31, 25, 4, 74, 32, 66, 7]\n"
     ]
    }
   ],
   "source": [
    "import math\n",
    "arr = [14,31,25,4,74,32,66,7]\n",
    "print(arr)"
   ]
  },
  {
   "cell_type": "code",
   "execution_count": 100,
   "id": "63c9983d",
   "metadata": {},
   "outputs": [],
   "source": [
    "def merge_sort(A,p,r):\n",
    "    if p<r :\n",
    "        q = math.floor((p+r)/2)\n",
    "        merge_sort(A,p,q)\n",
    "        merge_sort(A,q+1,r)\n",
    "        merge(A,p,q,r)\n",
    "    "
   ]
  },
  {
   "cell_type": "code",
   "execution_count": 101,
   "id": "c536fcd4",
   "metadata": {},
   "outputs": [],
   "source": [
    "arr = [14,31,25,4,74,32,66,7]\n",
    "def merge(A,p,q,r):\n",
    "    n1 = q-p+1\n",
    "    n2 = r-q\n",
    "    L = list(range(n1+1))\n",
    "    for i in range(n1):\n",
    "        L[i] = A[p+i]\n",
    "    R = list(range(n2+1))\n",
    "    for j in range(n2):\n",
    "        R[j] = A[q+j+1]\n",
    "    L[n1] = math.inf\n",
    "    R[n2] = math.inf\n",
    "    i = 0\n",
    "    j = 0\n",
    "    for k in range(r-p+1):\n",
    "        l = p + k\n",
    "        if L[i] < R[j]:\n",
    "            A[l] = L[i]\n",
    "            i=i+1\n",
    "        elif L[i] > R[j]:\n",
    "            A[l] = R[j]\n",
    "            j=j+1"
   ]
  },
  {
   "cell_type": "code",
   "execution_count": 102,
   "id": "04ec6283",
   "metadata": {},
   "outputs": [
    {
     "name": "stdout",
     "output_type": "stream",
     "text": [
      "[4, 7, 14, 25, 31, 32, 66, 74]\n"
     ]
    }
   ],
   "source": [
    "arr = [14,31,25,4,74,32,66,7]\n",
    "merge_sort(arr,0,len(arr)-1)\n",
    "print(arr)"
   ]
  },
  {
   "cell_type": "code",
   "execution_count": null,
   "id": "2899d46c",
   "metadata": {},
   "outputs": [],
   "source": []
  }
 ],
 "metadata": {
  "kernelspec": {
   "display_name": "Python 3 (ipykernel)",
   "language": "python",
   "name": "python3"
  },
  "language_info": {
   "codemirror_mode": {
    "name": "ipython",
    "version": 3
   },
   "file_extension": ".py",
   "mimetype": "text/x-python",
   "name": "python",
   "nbconvert_exporter": "python",
   "pygments_lexer": "ipython3",
   "version": "3.9.12"
  }
 },
 "nbformat": 4,
 "nbformat_minor": 5
}
